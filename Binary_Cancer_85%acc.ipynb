{
  "metadata": {
    "kernelspec": {
      "display_name": "Python 3",
      "name": "python3"
    },
    "language_info": {
      "name": "python",
      "version": "3.10.12",
      "mimetype": "text/x-python",
      "codemirror_mode": {
        "name": "ipython",
        "version": 3
      },
      "pygments_lexer": "ipython3",
      "nbconvert_exporter": "python",
      "file_extension": ".py"
    },
    "colab": {
      "provenance": [],
      "gpuType": "T4"
    },
    "accelerator": "GPU"
  },
  "nbformat_minor": 0,
  "nbformat": 4,
  "cells": [
    {
      "cell_type": "code",
      "source": [
        "import pathlib\n",
        "import tensorflow as tf\n",
        "import matplotlib.pyplot as plt\n",
        "import numpy as np\n",
        "import pandas as pd\n",
        "import os\n",
        "import PIL\n",
        "from tensorflow import keras\n",
        "from tensorflow.keras import layers\n",
        "from tensorflow.keras.models import Sequential\n",
        "from keras.layers import Dense, Dropout, Flatten, Conv2D, MaxPool2D, BatchNormalization, MaxPooling2D\n",
        "from tensorflow.keras.optimizers import Adam,Nadam, RMSprop # - Works\n",
        "import random\n",
        "from glob import glob\n",
        "import seaborn as sns\n",
        "from tensorflow.keras.losses import SparseCategoricalCrossentropy\n",
        "import matplotlib.pyplot as plt\n",
        "import matplotlib.image as img\n",
        "import warnings\n",
        "import shutil\n",
        "warnings.filterwarnings('ignore')\n",
        "os.environ['TF_CPP_MIN_LOG_LEVEL'] = '3'\n",
        "tf.compat.v1.logging.set_verbosity(tf.compat.v1.logging.ERROR)"
      ],
      "metadata": {
        "execution": {
          "iopub.status.busy": "2023-10-12T04:17:30.858660Z",
          "iopub.execute_input": "2023-10-12T04:17:30.858980Z",
          "iopub.status.idle": "2023-10-12T04:17:39.885227Z",
          "shell.execute_reply.started": "2023-10-12T04:17:30.858953Z",
          "shell.execute_reply": "2023-10-12T04:17:39.884187Z"
        },
        "trusted": true,
        "id": "b0B9puFJ7VbI"
      },
      "execution_count": 1,
      "outputs": []
    },
    {
      "cell_type": "code",
      "source": [
        "gpus = tf.config.experimental.list_physical_devices('GPU')\n",
        "print(gpus)\n",
        "try:\n",
        "    tf.config.experimental.set_memory_growth = True\n",
        "except Exception as ex:\n",
        "    print(e)"
      ],
      "metadata": {
        "execution": {
          "iopub.status.busy": "2023-10-12T04:17:51.832332Z",
          "iopub.execute_input": "2023-10-12T04:17:51.832911Z",
          "iopub.status.idle": "2023-10-12T04:17:52.341405Z",
          "shell.execute_reply.started": "2023-10-12T04:17:51.832881Z",
          "shell.execute_reply": "2023-10-12T04:17:52.340341Z"
        },
        "trusted": true,
        "colab": {
          "base_uri": "https://localhost:8080/"
        },
        "id": "A_Inu6v87VbM",
        "outputId": "ed4f7c8f-16da-49e1-9837-0fb8f030a51b"
      },
      "execution_count": 2,
      "outputs": [
        {
          "output_type": "stream",
          "name": "stdout",
          "text": [
            "[PhysicalDevice(name='/physical_device:GPU:0', device_type='GPU')]\n"
          ]
        }
      ]
    },
    {
      "cell_type": "code",
      "source": [
        "!pip install -q kaggle"
      ],
      "metadata": {
        "id": "WbdyCcfH8B1C"
      },
      "execution_count": 3,
      "outputs": []
    },
    {
      "cell_type": "code",
      "source": [
        "!mkdir ~/.kaggle"
      ],
      "metadata": {
        "id": "v5JdpY9m8FuP"
      },
      "execution_count": 4,
      "outputs": []
    },
    {
      "cell_type": "code",
      "source": [
        "!cp kaggle.json ~/.kaggle"
      ],
      "metadata": {
        "id": "suii_LL08M8P"
      },
      "execution_count": 5,
      "outputs": []
    },
    {
      "cell_type": "code",
      "source": [
        "!kaggle datasets download -d kylegraupe/skin-cancer-binary-classification-dataset"
      ],
      "metadata": {
        "colab": {
          "base_uri": "https://localhost:8080/"
        },
        "id": "AaYJk8eY8Mze",
        "outputId": "ec91132e-ee2c-42ad-f4f1-007a0f32ac81"
      },
      "execution_count": 6,
      "outputs": [
        {
          "output_type": "stream",
          "name": "stdout",
          "text": [
            "Warning: Your Kaggle API key is readable by other users on this system! To fix this, you can run 'chmod 600 /root/.kaggle/kaggle.json'\n",
            "Downloading skin-cancer-binary-classification-dataset.zip to /content\n",
            " 98% 22.0M/22.5M [00:02<00:00, 19.8MB/s]\n",
            "100% 22.5M/22.5M [00:02<00:00, 11.2MB/s]\n"
          ]
        }
      ]
    },
    {
      "cell_type": "code",
      "source": [
        "!unzip /content/skin-cancer-binary-classification-dataset.zip"
      ],
      "metadata": {
        "colab": {
          "base_uri": "https://localhost:8080/"
        },
        "id": "VyuKE1pE8XGn",
        "outputId": "68132055-5df9-429b-9b4a-a21e289f4012"
      },
      "execution_count": 7,
      "outputs": [
        {
          "output_type": "stream",
          "name": "stdout",
          "text": [
            "Archive:  /content/skin-cancer-binary-classification-dataset.zip\n",
            "  inflating: Skin_Data/Cancer/Testing/1714-02.jpg  \n",
            "  inflating: Skin_Data/Cancer/Testing/1718-2.jpg  \n",
            "  inflating: Skin_Data/Cancer/Testing/1777-1.JPG  \n",
            "  inflating: Skin_Data/Cancer/Testing/1780.1.JPG  \n",
            "  inflating: Skin_Data/Cancer/Testing/1780.JPG  \n",
            "  inflating: Skin_Data/Cancer/Testing/1789-02.JPG  \n",
            "  inflating: Skin_Data/Cancer/Testing/1811-3.JPG  \n",
            "  inflating: Skin_Data/Cancer/Testing/1847 (7).JPG  \n",
            "  inflating: Skin_Data/Cancer/Testing/1847.JPG  \n",
            "  inflating: Skin_Data/Cancer/Testing/1861-02.JPG  \n",
            "  inflating: Skin_Data/Cancer/Testing/1864-1.JPG  \n",
            "  inflating: Skin_Data/Cancer/Testing/1877(2).JPG  \n",
            "  inflating: Skin_Data/Cancer/Testing/1877.JPG  \n",
            "  inflating: Skin_Data/Cancer/Testing/1905.JPG  \n",
            "  inflating: Skin_Data/Cancer/Testing/1969-1.JPG  \n",
            "  inflating: Skin_Data/Cancer/Testing/1969-2.JPG  \n",
            "  inflating: Skin_Data/Cancer/Testing/1988-01.JPG  \n",
            "  inflating: Skin_Data/Cancer/Testing/1991 (1).JPG  \n",
            "  inflating: Skin_Data/Cancer/Testing/1992.JPG  \n",
            "  inflating: Skin_Data/Cancer/Testing/2085-2.JPG  \n",
            "  inflating: Skin_Data/Cancer/Testing/2099 (3).JPG  \n",
            "  inflating: Skin_Data/Cancer/Testing/2108.1.JPG  \n",
            "  inflating: Skin_Data/Cancer/Testing/2197-03.JPG  \n",
            "  inflating: Skin_Data/Cancer/Testing/2229-1.JPG.JPG  \n",
            "  inflating: Skin_Data/Cancer/Testing/2229-2.JPG.JPG  \n",
            "  inflating: Skin_Data/Cancer/Testing/2241-02.JPG  \n",
            "  inflating: Skin_Data/Cancer/Testing/2301-1.JPG  \n",
            "  inflating: Skin_Data/Cancer/Testing/2343-2.JPG  \n",
            "  inflating: Skin_Data/Cancer/Testing/2400-1.JPG  \n",
            "  inflating: Skin_Data/Cancer/Testing/2510-2.JPG  \n",
            "  inflating: Skin_Data/Cancer/Testing/2535-2.JPG  \n",
            "  inflating: Skin_Data/Cancer/Testing/2535-3.JPG  \n",
            "  inflating: Skin_Data/Cancer/Testing/2535-3q1.JPG  \n",
            "  inflating: Skin_Data/Cancer/Testing/2535-3q2.JPG  \n",
            "  inflating: Skin_Data/Cancer/Testing/2535-6.JPG  \n",
            "  inflating: Skin_Data/Cancer/Testing/2564-02.JPG  \n",
            "  inflating: Skin_Data/Cancer/Testing/2628-1.JPG  \n",
            "  inflating: Skin_Data/Cancer/Testing/2628-1q1.JPG  \n",
            "  inflating: Skin_Data/Cancer/Testing/2628-2.JPG  \n",
            "  inflating: Skin_Data/Cancer/Testing/2628-2q1.JPG  \n",
            "  inflating: Skin_Data/Cancer/Testing/2632-4.JPG  \n",
            "  inflating: Skin_Data/Cancer/Testing/2664-2.JPG  \n",
            "  inflating: Skin_Data/Cancer/Training/1007-1.jpg  \n",
            "  inflating: Skin_Data/Cancer/Training/1010-01.JPG  \n",
            "  inflating: Skin_Data/Cancer/Training/1012-2.JPG  \n",
            "  inflating: Skin_Data/Cancer/Training/1031-1.jpg  \n",
            "  inflating: Skin_Data/Cancer/Training/1051-3(94).jpg  \n",
            "  inflating: Skin_Data/Cancer/Training/1051-3(95).jpg  \n",
            "  inflating: Skin_Data/Cancer/Training/113-1.JPG  \n",
            "  inflating: Skin_Data/Cancer/Training/1157-01.JPG  \n",
            "  inflating: Skin_Data/Cancer/Training/120.2.JPG  \n",
            "  inflating: Skin_Data/Cancer/Training/1239-2.JPG  \n",
            "  inflating: Skin_Data/Cancer/Training/14-8.JPG  \n",
            "  inflating: Skin_Data/Cancer/Training/1435-1.JPG  \n",
            "  inflating: Skin_Data/Cancer/Training/1435-2.JPG  \n",
            "  inflating: Skin_Data/Cancer/Training/1435-3.JPG  \n",
            "  inflating: Skin_Data/Cancer/Training/1540-4.JPG  \n",
            "  inflating: Skin_Data/Cancer/Training/1543.JPG  \n",
            "  inflating: Skin_Data/Cancer/Training/1545.JPG  \n",
            "  inflating: Skin_Data/Cancer/Training/156.JPG  \n",
            "  inflating: Skin_Data/Cancer/Training/1563-03.jpg  \n",
            "  inflating: Skin_Data/Cancer/Training/1654-1.jpg  \n",
            "  inflating: Skin_Data/Cancer/Training/17 (1).JPG  \n",
            "  inflating: Skin_Data/Cancer/Training/1703.JPG  \n",
            "  inflating: Skin_Data/Cancer/Training/1714-01.jpg  \n",
            "  inflating: Skin_Data/Cancer/Training/234-1.JPG  \n",
            "  inflating: Skin_Data/Cancer/Training/236-2.JPG  \n",
            "  inflating: Skin_Data/Cancer/Training/311-1.JPG  \n",
            "  inflating: Skin_Data/Cancer/Training/311-2.JPG  \n",
            "  inflating: Skin_Data/Cancer/Training/341-2.JPG  \n",
            "  inflating: Skin_Data/Cancer/Training/341-5.JPG  \n",
            "  inflating: Skin_Data/Cancer/Training/402-3.JPG  \n",
            "  inflating: Skin_Data/Cancer/Training/412-3.JPG  \n",
            "  inflating: Skin_Data/Cancer/Training/646.1.JPG  \n",
            "  inflating: Skin_Data/Cancer/Training/650-1.JPG  \n",
            "  inflating: Skin_Data/Cancer/Training/650-2.JPG  \n",
            "  inflating: Skin_Data/Cancer/Training/680.JPG  \n",
            "  inflating: Skin_Data/Cancer/Training/728.3.JPG  \n",
            "  inflating: Skin_Data/Cancer/Training/73-2.JPG  \n",
            "  inflating: Skin_Data/Cancer/Training/801.JPG  \n",
            "  inflating: Skin_Data/Cancer/Training/933-1.JPG  \n",
            "  inflating: Skin_Data/Cancer/Training/933-2.JPG  \n",
            "  inflating: Skin_Data/Cancer/Training/DSC_0061.JPG  \n",
            "  inflating: Skin_Data/Cancer/Training/DSC_0061q.JPG  \n",
            "  inflating: Skin_Data/Non_Cancer/Testing/1006-2.JPG  \n",
            "  inflating: Skin_Data/Non_Cancer/Testing/1009-1.JPG  \n",
            "  inflating: Skin_Data/Non_Cancer/Testing/1012.JPG  \n",
            "  inflating: Skin_Data/Non_Cancer/Testing/102-1.JPG  \n",
            "  inflating: Skin_Data/Non_Cancer/Testing/1032.jpg  \n",
            "  inflating: Skin_Data/Non_Cancer/Testing/1045-2.JPG  \n",
            "  inflating: Skin_Data/Non_Cancer/Testing/1054.JPG  \n",
            "  inflating: Skin_Data/Non_Cancer/Testing/1058-2.JPG  \n",
            "  inflating: Skin_Data/Non_Cancer/Testing/1065.jpg  \n",
            "  inflating: Skin_Data/Non_Cancer/Testing/108-1.JPG  \n",
            "  inflating: Skin_Data/Non_Cancer/Testing/1081-1.JPG  \n",
            "  inflating: Skin_Data/Non_Cancer/Testing/1086-01.JPG  \n",
            "  inflating: Skin_Data/Non_Cancer/Testing/1111.JPG  \n",
            "  inflating: Skin_Data/Non_Cancer/Testing/1121.JPG  \n",
            "  inflating: Skin_Data/Non_Cancer/Testing/1125.JPG  \n",
            "  inflating: Skin_Data/Non_Cancer/Testing/1127-1.JPG  \n",
            "  inflating: Skin_Data/Non_Cancer/Testing/1135.1.JPG  \n",
            "  inflating: Skin_Data/Non_Cancer/Testing/1139-01.JPG  \n",
            "  inflating: Skin_Data/Non_Cancer/Testing/114-2.JPG  \n",
            "  inflating: Skin_Data/Non_Cancer/Testing/1142-01.JPG  \n",
            "  inflating: Skin_Data/Non_Cancer/Testing/1150-01.JPG  \n",
            "  inflating: Skin_Data/Non_Cancer/Testing/1151-01.JPG  \n",
            "  inflating: Skin_Data/Non_Cancer/Testing/1161-01.JPG  \n",
            "  inflating: Skin_Data/Non_Cancer/Testing/1174-01.JPG  \n",
            "  inflating: Skin_Data/Non_Cancer/Testing/1242-1.JPG  \n",
            "  inflating: Skin_Data/Non_Cancer/Testing/1244.JPG  \n",
            "  inflating: Skin_Data/Non_Cancer/Testing/1248-1.JPG  \n",
            "  inflating: Skin_Data/Non_Cancer/Testing/1255.JPG  \n",
            "  inflating: Skin_Data/Non_Cancer/Testing/1272-2.JPG  \n",
            "  inflating: Skin_Data/Non_Cancer/Testing/1277-1.JPG  \n",
            "  inflating: Skin_Data/Non_Cancer/Testing/1295.JPG  \n",
            "  inflating: Skin_Data/Non_Cancer/Testing/133-1.JPG  \n",
            "  inflating: Skin_Data/Non_Cancer/Testing/1341-1.JPG  \n",
            "  inflating: Skin_Data/Non_Cancer/Testing/1341-2.JPG  \n",
            "  inflating: Skin_Data/Non_Cancer/Testing/1342.JPG  \n",
            "  inflating: Skin_Data/Non_Cancer/Testing/1359-2.jpg  \n",
            "  inflating: Skin_Data/Non_Cancer/Testing/1360-2.JPG  \n",
            "  inflating: Skin_Data/Non_Cancer/Testing/1364.JPG  \n",
            "  inflating: Skin_Data/Non_Cancer/Testing/1383-02.JPG  \n",
            "  inflating: Skin_Data/Non_Cancer/Testing/1386-02.JPG  \n",
            "  inflating: Skin_Data/Non_Cancer/Testing/139-2.JPG  \n",
            "  inflating: Skin_Data/Non_Cancer/Testing/1393-1.JPG  \n",
            "  inflating: Skin_Data/Non_Cancer/Testing/1396-2.JPG  \n",
            "  inflating: Skin_Data/Non_Cancer/Testing/1397-1.JPG  \n",
            "  inflating: Skin_Data/Non_Cancer/Testing/140.JPG  \n",
            "  inflating: Skin_Data/Non_Cancer/Testing/1442-2.JPG  \n",
            "  inflating: Skin_Data/Non_Cancer/Testing/1477.JPG  \n",
            "  inflating: Skin_Data/Non_Cancer/Testing/1500-2.JPG  \n",
            "  inflating: Skin_Data/Non_Cancer/Testing/1501-2.JPG  \n",
            "  inflating: Skin_Data/Non_Cancer/Testing/1503-1.JPG  \n",
            "  inflating: Skin_Data/Non_Cancer/Testing/1551-03.JPG  \n",
            "  inflating: Skin_Data/Non_Cancer/Testing/1584-01.JPG  \n",
            "  inflating: Skin_Data/Non_Cancer/Testing/1585-01.JPG  \n",
            "  inflating: Skin_Data/Non_Cancer/Testing/1589-01.JPG  \n",
            "  inflating: Skin_Data/Non_Cancer/Testing/1593-01.JPG  \n",
            "  inflating: Skin_Data/Non_Cancer/Testing/1602-01.JPG  \n",
            "  inflating: Skin_Data/Non_Cancer/Testing/1605-01.JPG  \n",
            "  inflating: Skin_Data/Non_Cancer/Testing/1637-02.JPG  \n",
            "  inflating: Skin_Data/Non_Cancer/Testing/1637-03.JPG  \n",
            "  inflating: Skin_Data/Non_Cancer/Testing/1638-1.JPG  \n",
            "  inflating: Skin_Data/Non_Cancer/Testing/1639-1.JPG  \n",
            "  inflating: Skin_Data/Non_Cancer/Testing/1640-2.JPG  \n",
            "  inflating: Skin_Data/Non_Cancer/Testing/1682.jpg  \n",
            "  inflating: Skin_Data/Non_Cancer/Testing/1708-3.JPG  \n",
            "  inflating: Skin_Data/Non_Cancer/Testing/1718-3.jpg  \n",
            "  inflating: Skin_Data/Non_Cancer/Testing/1741-02.JPG  \n",
            "  inflating: Skin_Data/Non_Cancer/Testing/1742-01.JPG  \n",
            "  inflating: Skin_Data/Non_Cancer/Testing/179-1.JPG  \n",
            "  inflating: Skin_Data/Non_Cancer/Testing/18.JPG  \n",
            "  inflating: Skin_Data/Non_Cancer/Testing/1810-01.JPG  \n",
            "  inflating: Skin_Data/Non_Cancer/Testing/1827.JPG  \n",
            "  inflating: Skin_Data/Non_Cancer/Testing/1828.JPG  \n",
            "  inflating: Skin_Data/Non_Cancer/Testing/1834-01.JPG  \n",
            "  inflating: Skin_Data/Non_Cancer/Testing/1836-01.JPG  \n",
            "  inflating: Skin_Data/Non_Cancer/Testing/1839-02.JPG  \n",
            "  inflating: Skin_Data/Non_Cancer/Testing/1839-04.JPG  \n",
            "  inflating: Skin_Data/Non_Cancer/Testing/184.JPG  \n",
            "  inflating: Skin_Data/Non_Cancer/Testing/1852-02.JPG  \n",
            "  inflating: Skin_Data/Non_Cancer/Testing/1857-01.JPG  \n",
            "  inflating: Skin_Data/Non_Cancer/Testing/19-1-1.JPG  \n",
            "  inflating: Skin_Data/Non_Cancer/Testing/19-1.JPG  \n",
            "  inflating: Skin_Data/Non_Cancer/Testing/1902-01.JPG  \n",
            "  inflating: Skin_Data/Non_Cancer/Testing/1906-02.JPG  \n",
            "  inflating: Skin_Data/Non_Cancer/Testing/191-02.JPG  \n",
            "  inflating: Skin_Data/Non_Cancer/Testing/1928-02.JPG  \n",
            "  inflating: Skin_Data/Non_Cancer/Testing/1976-1.JPG  \n",
            "  inflating: Skin_Data/Non_Cancer/Testing/199-2.JPG  \n",
            "  inflating: Skin_Data/Non_Cancer/Testing/1995-1.JPG  \n",
            "  inflating: Skin_Data/Non_Cancer/Testing/1999-02.JPG  \n",
            "  inflating: Skin_Data/Non_Cancer/Testing/201-1.JPG  \n",
            "  inflating: Skin_Data/Non_Cancer/Testing/2013-3.JPG  \n",
            "  inflating: Skin_Data/Non_Cancer/Testing/2020-01.jpg  \n",
            "  inflating: Skin_Data/Non_Cancer/Testing/2040-1.JPG  \n",
            "  inflating: Skin_Data/Non_Cancer/Testing/2044-02.JPG  \n",
            "  inflating: Skin_Data/Non_Cancer/Testing/2045-02.JPG  \n",
            "  inflating: Skin_Data/Non_Cancer/Testing/2046-01.JPG  \n",
            "  inflating: Skin_Data/Non_Cancer/Testing/2047-02.JPG  \n",
            "  inflating: Skin_Data/Non_Cancer/Testing/2052-2.JPG  \n",
            "  inflating: Skin_Data/Non_Cancer/Testing/2053-3.JPG  \n",
            "  inflating: Skin_Data/Non_Cancer/Testing/2061.JPG  \n",
            "  inflating: Skin_Data/Non_Cancer/Testing/2074.2.JPG  \n",
            "  inflating: Skin_Data/Non_Cancer/Testing/2081.3.JPG  \n",
            "  inflating: Skin_Data/Non_Cancer/Testing/2090-1.jpg  \n",
            "  inflating: Skin_Data/Non_Cancer/Testing/2144-2.JPG  \n",
            "  inflating: Skin_Data/Non_Cancer/Testing/2165-03.JPG  \n",
            "  inflating: Skin_Data/Non_Cancer/Testing/2194-03.JPG  \n",
            "  inflating: Skin_Data/Non_Cancer/Testing/2195-02.JPG  \n",
            "  inflating: Skin_Data/Non_Cancer/Testing/2198-02.JPG  \n",
            "  inflating: Skin_Data/Non_Cancer/Testing/2222-3.JPG  \n",
            "  inflating: Skin_Data/Non_Cancer/Testing/2243-02.JPG  \n",
            "  inflating: Skin_Data/Non_Cancer/Testing/2287.JPG  \n",
            "  inflating: Skin_Data/Non_Cancer/Testing/2288.JPG  \n",
            "  inflating: Skin_Data/Non_Cancer/Testing/2294.JPG  \n",
            "  inflating: Skin_Data/Non_Cancer/Testing/233.JPG  \n",
            "  inflating: Skin_Data/Non_Cancer/Testing/2389.JPG  \n",
            "  inflating: Skin_Data/Non_Cancer/Testing/2539-2.JPG  \n",
            "  inflating: Skin_Data/Non_Cancer/Testing/2544-3.JPG  \n",
            "  inflating: Skin_Data/Non_Cancer/Testing/2566-03.JPG  \n",
            "  inflating: Skin_Data/Non_Cancer/Testing/2584-3.JPG  \n",
            "  inflating: Skin_Data/Non_Cancer/Testing/269.JPG  \n",
            "  inflating: Skin_Data/Non_Cancer/Testing/276-2.JPG  \n",
            "  inflating: Skin_Data/Non_Cancer/Testing/277-1.JPG  \n",
            "  inflating: Skin_Data/Non_Cancer/Testing/281.JPG  \n",
            "  inflating: Skin_Data/Non_Cancer/Testing/298-01.JPG  \n",
            "  inflating: Skin_Data/Non_Cancer/Testing/35.JPG  \n",
            "  inflating: Skin_Data/Non_Cancer/Testing/48.JPG  \n",
            "  inflating: Skin_Data/Non_Cancer/Testing/49.JPG  \n",
            "  inflating: Skin_Data/Non_Cancer/Testing/5-01.JPG  \n",
            "  inflating: Skin_Data/Non_Cancer/Testing/56-2.JPG  \n",
            "  inflating: Skin_Data/Non_Cancer/Testing/57-2.JPG  \n",
            "  inflating: Skin_Data/Non_Cancer/Testing/63-1.JPG  \n",
            "  inflating: Skin_Data/Non_Cancer/Testing/738-3.JPG  \n",
            "  inflating: Skin_Data/Non_Cancer/Testing/738-4.JPG  \n",
            "  inflating: Skin_Data/Non_Cancer/Testing/76.JPG  \n",
            "  inflating: Skin_Data/Non_Cancer/Testing/761-01.JPG  \n",
            "  inflating: Skin_Data/Non_Cancer/Testing/762-01.JPG  \n",
            "  inflating: Skin_Data/Non_Cancer/Testing/782.JPG  \n",
            "  inflating: Skin_Data/Non_Cancer/Testing/783.JPG  \n",
            "  inflating: Skin_Data/Non_Cancer/Testing/786-2-1.JPG  \n",
            "  inflating: Skin_Data/Non_Cancer/Testing/787.JPG  \n",
            "  inflating: Skin_Data/Non_Cancer/Testing/806-01.JPG  \n",
            "  inflating: Skin_Data/Non_Cancer/Testing/807-01.JPG  \n",
            "  inflating: Skin_Data/Non_Cancer/Testing/827.JPG  \n",
            "  inflating: Skin_Data/Non_Cancer/Testing/837-01.JPG  \n",
            "  inflating: Skin_Data/Non_Cancer/Testing/839.JPG  \n",
            "  inflating: Skin_Data/Non_Cancer/Testing/842.JPG  \n",
            "  inflating: Skin_Data/Non_Cancer/Testing/849-1.JPG  \n",
            "  inflating: Skin_Data/Non_Cancer/Testing/855-1.JPG  \n",
            "  inflating: Skin_Data/Non_Cancer/Testing/856-2.JPG  \n",
            "  inflating: Skin_Data/Non_Cancer/Testing/863.JPG  \n",
            "  inflating: Skin_Data/Non_Cancer/Testing/864.JPG  \n",
            "  inflating: Skin_Data/Non_Cancer/Testing/878-1.JPG  \n",
            "  inflating: Skin_Data/Non_Cancer/Testing/886-3.JPG  \n",
            "  inflating: Skin_Data/Non_Cancer/Testing/911-2.JPG  \n",
            "  inflating: Skin_Data/Non_Cancer/Testing/912.JPG  \n",
            "  inflating: Skin_Data/Non_Cancer/Testing/937-1.JPG  \n",
            "  inflating: Skin_Data/Non_Cancer/Testing/950-2.JPG  \n",
            "  inflating: Skin_Data/Non_Cancer/Testing/953-1.JPG  \n",
            "  inflating: Skin_Data/Non_Cancer/Testing/954-3.JPG  \n",
            "  inflating: Skin_Data/Non_Cancer/Testing/955.JPG  \n",
            "  inflating: Skin_Data/Non_Cancer/Testing/984.JPG  \n",
            "  inflating: Skin_Data/Non_Cancer/Testing/986-1.JPG  \n",
            "  inflating: Skin_Data/Non_Cancer/Training/299.JPG  \n",
            "  inflating: Skin_Data/Non_Cancer/Training/305-2.JPG  \n",
            "  inflating: Skin_Data/Non_Cancer/Training/332-1.JPG  \n",
            "  inflating: Skin_Data/Non_Cancer/Training/337-2.JPG  \n",
            "  inflating: Skin_Data/Non_Cancer/Training/362-2.JPG  \n",
            "  inflating: Skin_Data/Non_Cancer/Training/410-3.JPG  \n",
            "  inflating: Skin_Data/Non_Cancer/Training/411.JPG  \n",
            "  inflating: Skin_Data/Non_Cancer/Training/422.JPG  \n",
            "  inflating: Skin_Data/Non_Cancer/Training/431-1.JPG  \n",
            "  inflating: Skin_Data/Non_Cancer/Training/433-2.JPG  \n",
            "  inflating: Skin_Data/Non_Cancer/Training/434-2.JPG  \n",
            "  inflating: Skin_Data/Non_Cancer/Training/436.JPG  \n",
            "  inflating: Skin_Data/Non_Cancer/Training/448-4.JPG  \n",
            "  inflating: Skin_Data/Non_Cancer/Training/453-01.JPG  \n",
            "  inflating: Skin_Data/Non_Cancer/Training/490-1.JPG  \n",
            "  inflating: Skin_Data/Non_Cancer/Training/520-2.JPG  \n",
            "  inflating: Skin_Data/Non_Cancer/Training/520.JPG  \n",
            "  inflating: Skin_Data/Non_Cancer/Training/527-2.JPG  \n",
            "  inflating: Skin_Data/Non_Cancer/Training/529-2.JPG  \n",
            "  inflating: Skin_Data/Non_Cancer/Training/544-1.JPG  \n",
            "  inflating: Skin_Data/Non_Cancer/Training/546-2.JPG  \n",
            "  inflating: Skin_Data/Non_Cancer/Training/570-1.JPG  \n",
            "  inflating: Skin_Data/Non_Cancer/Training/572-2.JPG  \n",
            "  inflating: Skin_Data/Non_Cancer/Training/578.JPG  \n",
            "  inflating: Skin_Data/Non_Cancer/Training/583-1.JPG.JPG  \n",
            "  inflating: Skin_Data/Non_Cancer/Training/597-03-1.JPG  \n",
            "  inflating: Skin_Data/Non_Cancer/Training/597-03-2.JPG  \n",
            "  inflating: Skin_Data/Non_Cancer/Training/597-03.JPG  \n",
            "  inflating: Skin_Data/Non_Cancer/Training/614.JPG  \n",
            "  inflating: Skin_Data/Non_Cancer/Training/630-2.JPG  \n",
            "  inflating: Skin_Data/Non_Cancer/Training/638-1.JPG  \n",
            "  inflating: Skin_Data/Non_Cancer/Training/638-2.JPG  \n",
            "  inflating: Skin_Data/Non_Cancer/Training/641.JPG  \n",
            "  inflating: Skin_Data/Non_Cancer/Training/659.JPG  \n",
            "  inflating: Skin_Data/Non_Cancer/Training/661-2.JPG  \n",
            "  inflating: Skin_Data/Non_Cancer/Training/663.JPG  \n",
            "  inflating: Skin_Data/Non_Cancer/Training/664.JPG  \n",
            "  inflating: Skin_Data/Non_Cancer/Training/669-1.JPG  \n",
            "  inflating: Skin_Data/Non_Cancer/Training/669-2.JPG  \n",
            "  inflating: Skin_Data/Non_Cancer/Training/669-3.JPG  \n",
            "  inflating: Skin_Data/Non_Cancer/Training/694-03.JPG  \n",
            "  inflating: Skin_Data/Non_Cancer/Training/738-2.JPG  \n"
          ]
        }
      ]
    },
    {
      "cell_type": "code",
      "source": [
        "!pip install -q Augmentor\n",
        "import Augmentor"
      ],
      "metadata": {
        "execution": {
          "iopub.status.busy": "2023-10-12T04:17:52.414814Z",
          "iopub.execute_input": "2023-10-12T04:17:52.415749Z",
          "iopub.status.idle": "2023-10-12T04:18:03.333206Z",
          "shell.execute_reply.started": "2023-10-12T04:17:52.415713Z",
          "shell.execute_reply": "2023-10-12T04:18:03.331994Z"
        },
        "trusted": true,
        "id": "DFEMfL8Y7VbN"
      },
      "execution_count": 8,
      "outputs": []
    },
    {
      "cell_type": "code",
      "source": [
        "path_to_training_dataset = '/content/Skin_Data/'\n",
        "class_names = ['Cancer','Non_Cancer']\n",
        "for i in class_names:\n",
        "    p = Augmentor.Pipeline(path_to_training_dataset + i + '/Training', output_directory='/content/sample_data/Train/' + i)\n",
        "    p.rotate(probability=0.7, max_left_rotation=10, max_right_rotation=10)\n",
        "    p.sample(5000)"
      ],
      "metadata": {
        "execution": {
          "iopub.status.busy": "2023-10-12T04:18:09.694967Z",
          "iopub.execute_input": "2023-10-12T04:18:09.695304Z",
          "iopub.status.idle": "2023-10-12T04:20:41.849004Z",
          "shell.execute_reply.started": "2023-10-12T04:18:09.695275Z",
          "shell.execute_reply": "2023-10-12T04:20:41.848229Z"
        },
        "trusted": true,
        "colab": {
          "base_uri": "https://localhost:8080/"
        },
        "id": "QO1QzSRR7VbN",
        "outputId": "4b5e79b3-7305-48fe-c7d4-1b8e7d9411ec"
      },
      "execution_count": 9,
      "outputs": [
        {
          "output_type": "stream",
          "name": "stdout",
          "text": [
            "Initialised with 42 image(s) found.\n",
            "Output directory set to /content/sample_data/Train/Cancer."
          ]
        },
        {
          "output_type": "stream",
          "name": "stderr",
          "text": [
            "Processing <PIL.JpegImagePlugin.JpegImageFile image mode=RGB size=206x200 at 0x7A52D3FF3C40>: 100%|██████████| 5000/5000 [02:31<00:00, 32.92 Samples/s]\n"
          ]
        },
        {
          "output_type": "stream",
          "name": "stdout",
          "text": [
            "Initialised with 42 image(s) found.\n",
            "Output directory set to /content/sample_data/Train/Non_Cancer."
          ]
        },
        {
          "output_type": "stream",
          "name": "stderr",
          "text": [
            "Processing <PIL.Image.Image image mode=RGB size=160x140 at 0x7A53201A7EB0>: 100%|██████████| 5000/5000 [01:03<00:00, 78.18 Samples/s]\n"
          ]
        }
      ]
    },
    {
      "cell_type": "code",
      "source": [
        "data_dir = '/content/Skin_Data'  # Update this to your dataset directory\n",
        "output_dir = '/content/sample_data/Test'\n",
        "\n",
        "# Create the output directory if it doesn't exist\n",
        "if not os.path.exists(output_dir):\n",
        "    os.makedirs(output_dir)\n",
        "\n",
        "# Create subdirectories for train and valid (no test directory)\n",
        "os.makedirs(os.path.join(output_dir, 'test'), exist_ok=True)\n",
        "\n",
        "\n",
        "# Define the classes for binary classification\n",
        "classes = ['Cancer', 'Non_Cancer']\n",
        "\n",
        "# Move data from source to train/valid folders\n",
        "for class_name in classes:\n",
        "    class_dir = os.path.join(data_dir,class_name,\"Testing\")\n",
        "\n",
        "    # Create subdirectories for train and valid within each class\n",
        "    os.makedirs(os.path.join(output_dir, 'test', class_name), exist_ok=True)\n",
        "#     os.makedirs(os.path.join(output_dir, 'valid', class_name), exist_ok=True)\n",
        "\n",
        "    # List all files in the current class directory\n",
        "    files = os.listdir(class_dir)\n",
        "\n",
        "\n",
        "    # Move files to train\n",
        "    for file in files:\n",
        "        source_path = os.path.join(class_dir, file)\n",
        "        dest_path = os.path.join(output_dir, 'test', class_name, file)\n",
        "        shutil.copyfile(source_path, dest_path)\n",
        "\n",
        "print(\"Data preprocessing for binary classification complete.\")"
      ],
      "metadata": {
        "execution": {
          "iopub.status.busy": "2023-10-12T04:20:43.955968Z",
          "iopub.execute_input": "2023-10-12T04:20:43.956311Z",
          "iopub.status.idle": "2023-10-12T04:20:44.955206Z",
          "shell.execute_reply.started": "2023-10-12T04:20:43.956286Z",
          "shell.execute_reply": "2023-10-12T04:20:44.954235Z"
        },
        "trusted": true,
        "colab": {
          "base_uri": "https://localhost:8080/"
        },
        "id": "tbgkJWOV7VbN",
        "outputId": "63cc145b-7eab-4e83-fd94-51abe62b4f8f"
      },
      "execution_count": 10,
      "outputs": [
        {
          "output_type": "stream",
          "name": "stdout",
          "text": [
            "Data preprocessing for binary classification complete.\n"
          ]
        }
      ]
    },
    {
      "cell_type": "code",
      "source": [
        "batch_size = 16\n",
        "img_height = 180\n",
        "img_width = 180"
      ],
      "metadata": {
        "execution": {
          "iopub.status.busy": "2023-10-12T04:20:47.589255Z",
          "iopub.execute_input": "2023-10-12T04:20:47.589582Z",
          "iopub.status.idle": "2023-10-12T04:20:47.593864Z",
          "shell.execute_reply.started": "2023-10-12T04:20:47.589555Z",
          "shell.execute_reply": "2023-10-12T04:20:47.592713Z"
        },
        "trusted": true,
        "id": "uXTSOkgb7VbO"
      },
      "execution_count": 11,
      "outputs": []
    },
    {
      "cell_type": "code",
      "source": [
        "output_dir = '/content/sample_data/Train'\n",
        "train_ds = tf.keras.preprocessing.image_dataset_from_directory(\n",
        "  output_dir,\n",
        "  seed=123,\n",
        "  validation_split = 0.2,\n",
        "  subset = 'training',\n",
        "  image_size=(img_height, img_width),\n",
        "  shuffle = True,\n",
        "  batch_size=batch_size)"
      ],
      "metadata": {
        "execution": {
          "iopub.status.busy": "2023-10-12T04:20:50.506015Z",
          "iopub.execute_input": "2023-10-12T04:20:50.506335Z",
          "iopub.status.idle": "2023-10-12T04:20:55.204516Z",
          "shell.execute_reply.started": "2023-10-12T04:20:50.506310Z",
          "shell.execute_reply": "2023-10-12T04:20:55.203616Z"
        },
        "trusted": true,
        "colab": {
          "base_uri": "https://localhost:8080/"
        },
        "id": "4djqDFq87VbP",
        "outputId": "596c7a3e-7fe4-452f-ff19-03feee08a36f"
      },
      "execution_count": 12,
      "outputs": [
        {
          "output_type": "stream",
          "name": "stdout",
          "text": [
            "Found 10000 files belonging to 2 classes.\n",
            "Using 8000 files for training.\n"
          ]
        }
      ]
    },
    {
      "cell_type": "code",
      "source": [
        "val_ds = tf.keras.preprocessing.image_dataset_from_directory(\n",
        "  output_dir,\n",
        "  seed=123,\n",
        "  validation_split = 0.2,\n",
        "  subset = 'validation',\n",
        "  image_size=(img_height, img_width),\n",
        "  shuffle = True,\n",
        "  batch_size=batch_size)"
      ],
      "metadata": {
        "execution": {
          "iopub.status.busy": "2023-10-12T04:20:55.206119Z",
          "iopub.execute_input": "2023-10-12T04:20:55.206372Z",
          "iopub.status.idle": "2023-10-12T04:20:55.588627Z",
          "shell.execute_reply.started": "2023-10-12T04:20:55.206351Z",
          "shell.execute_reply": "2023-10-12T04:20:55.587549Z"
        },
        "trusted": true,
        "colab": {
          "base_uri": "https://localhost:8080/"
        },
        "id": "yuQSSB0S7VbP",
        "outputId": "7e0ef924-f6c1-4e43-8c37-513883283996"
      },
      "execution_count": 13,
      "outputs": [
        {
          "output_type": "stream",
          "name": "stdout",
          "text": [
            "Found 10000 files belonging to 2 classes.\n",
            "Using 2000 files for validation.\n"
          ]
        }
      ]
    },
    {
      "cell_type": "code",
      "source": [
        "test_ds = tf.keras.preprocessing.image_dataset_from_directory(\n",
        "  '/content/sample_data/Test/test',\n",
        "  seed=123,\n",
        "  validation_split = 0.9,\n",
        "  subset = 'validation',\n",
        "  image_size=(img_height, img_width),\n",
        "  batch_size=batch_size)"
      ],
      "metadata": {
        "execution": {
          "iopub.status.busy": "2023-10-12T04:20:55.589867Z",
          "iopub.execute_input": "2023-10-12T04:20:55.590680Z",
          "iopub.status.idle": "2023-10-12T04:20:55.620315Z",
          "shell.execute_reply.started": "2023-10-12T04:20:55.590646Z",
          "shell.execute_reply": "2023-10-12T04:20:55.619385Z"
        },
        "trusted": true,
        "colab": {
          "base_uri": "https://localhost:8080/"
        },
        "id": "DG7fQvyJ7VbQ",
        "outputId": "3f87a748-c00d-4a28-b3d0-5ccc006dbb48"
      },
      "execution_count": 14,
      "outputs": [
        {
          "output_type": "stream",
          "name": "stdout",
          "text": [
            "Found 204 files belonging to 2 classes.\n",
            "Using 183 files for validation.\n"
          ]
        }
      ]
    },
    {
      "cell_type": "code",
      "source": [
        "input_shape = (img_height,img_width,3)\n",
        "model = Sequential([layers.experimental.preprocessing.Rescaling(1.0/255,input_shape=input_shape)])\n",
        "model.add(Conv2D(16,(3,3), activation='relu', input_shape=input_shape))\n",
        "model.add(BatchNormalization())\n",
        "model.add(MaxPool2D((2,2)))\n",
        "\n",
        "model.add(Conv2D(32,(3,3), activation='relu', input_shape=input_shape))\n",
        "model.add(BatchNormalization())\n",
        "model.add(MaxPool2D((2,2)))\n",
        "model.add(Dropout(0.2))\n",
        "\n",
        "model.add(Conv2D(64,(3,3), activation='relu', input_shape=input_shape))\n",
        "model.add(BatchNormalization())\n",
        "model.add(MaxPool2D((2,2)))\n",
        "model.add(Dropout(0.2))\n",
        "\n",
        "model.add(Conv2D(128,(3,3), activation='relu', input_shape=input_shape))\n",
        "model.add(BatchNormalization())\n",
        "model.add(MaxPool2D((2,2)))\n",
        "model.add(Dropout(0.2))\n",
        "\n",
        "model.add(Flatten())\n",
        "model.add(Dense(1024, activation='relu'))\n",
        "model.add(Dropout(0.5))\n",
        "model.add(Dense(1, activation='sigmoid'))"
      ],
      "metadata": {
        "execution": {
          "iopub.status.busy": "2023-10-12T04:21:03.229937Z",
          "iopub.execute_input": "2023-10-12T04:21:03.230283Z",
          "iopub.status.idle": "2023-10-12T04:21:03.439451Z",
          "shell.execute_reply.started": "2023-10-12T04:21:03.230256Z",
          "shell.execute_reply": "2023-10-12T04:21:03.438568Z"
        },
        "trusted": true,
        "id": "JUezOlLx7VbR"
      },
      "execution_count": 57,
      "outputs": []
    },
    {
      "cell_type": "code",
      "source": [
        "opt = Adam(learning_rate=0.001)\n",
        "model.compile(optimizer= opt,\n",
        "              loss = 'binary_crossentropy',\n",
        "              metrics=['accuracy'])"
      ],
      "metadata": {
        "execution": {
          "iopub.status.busy": "2023-10-12T04:21:09.995034Z",
          "iopub.execute_input": "2023-10-12T04:21:09.995374Z",
          "iopub.status.idle": "2023-10-12T04:21:10.014284Z",
          "shell.execute_reply.started": "2023-10-12T04:21:09.995346Z",
          "shell.execute_reply": "2023-10-12T04:21:10.013416Z"
        },
        "trusted": true,
        "id": "WRG8f8Ki7VbR"
      },
      "execution_count": 58,
      "outputs": []
    },
    {
      "cell_type": "code",
      "source": [
        "epochs = 20\n",
        "history = model.fit(\n",
        "  train_ds,\n",
        "  validation_data=val_ds,\n",
        "  epochs=epochs\n",
        ")"
      ],
      "metadata": {
        "execution": {
          "iopub.status.busy": "2023-10-12T04:21:11.947394Z",
          "iopub.execute_input": "2023-10-12T04:21:11.948529Z",
          "iopub.status.idle": "2023-10-12T04:26:36.099270Z",
          "shell.execute_reply.started": "2023-10-12T04:21:11.948486Z",
          "shell.execute_reply": "2023-10-12T04:26:36.098359Z"
        },
        "trusted": true,
        "colab": {
          "base_uri": "https://localhost:8080/"
        },
        "id": "H2GaJDfQ7VbR",
        "outputId": "a2eb38ed-87c6-402b-9288-5bc53e6ae1f7"
      },
      "execution_count": 59,
      "outputs": [
        {
          "output_type": "stream",
          "name": "stdout",
          "text": [
            "Epoch 1/20\n",
            "500/500 [==============================] - 22s 35ms/step - loss: 0.6006 - accuracy: 0.9521 - val_loss: 6.8438 - val_accuracy: 0.6815\n",
            "Epoch 2/20\n",
            "500/500 [==============================] - 17s 33ms/step - loss: 0.2786 - accuracy: 0.9836 - val_loss: 0.1322 - val_accuracy: 0.9885\n",
            "Epoch 3/20\n",
            "500/500 [==============================] - 18s 35ms/step - loss: 0.2988 - accuracy: 0.9876 - val_loss: 0.0890 - val_accuracy: 0.9890\n",
            "Epoch 4/20\n",
            "500/500 [==============================] - 17s 34ms/step - loss: 0.0255 - accuracy: 0.9983 - val_loss: 4.7578e-10 - val_accuracy: 1.0000\n",
            "Epoch 5/20\n",
            "500/500 [==============================] - 17s 34ms/step - loss: 0.3509 - accuracy: 0.9881 - val_loss: 8.0622 - val_accuracy: 0.8860\n",
            "Epoch 6/20\n",
            "500/500 [==============================] - 18s 35ms/step - loss: 0.3248 - accuracy: 0.9886 - val_loss: 4.3015e-12 - val_accuracy: 1.0000\n",
            "Epoch 7/20\n",
            "500/500 [==============================] - 17s 34ms/step - loss: 0.0151 - accuracy: 0.9991 - val_loss: 1.5038e-19 - val_accuracy: 1.0000\n",
            "Epoch 8/20\n",
            "500/500 [==============================] - 17s 33ms/step - loss: 0.0651 - accuracy: 0.9973 - val_loss: 1.3998e-05 - val_accuracy: 1.0000\n",
            "Epoch 9/20\n",
            "500/500 [==============================] - 18s 35ms/step - loss: 0.0351 - accuracy: 0.9989 - val_loss: 6.8010e-16 - val_accuracy: 1.0000\n",
            "Epoch 10/20\n",
            "500/500 [==============================] - 17s 33ms/step - loss: 0.0363 - accuracy: 0.9981 - val_loss: 0.4639 - val_accuracy: 0.9845\n",
            "Epoch 11/20\n",
            "500/500 [==============================] - 18s 35ms/step - loss: 0.3801 - accuracy: 0.9911 - val_loss: 4.2355e-07 - val_accuracy: 1.0000\n",
            "Epoch 12/20\n",
            "500/500 [==============================] - 17s 34ms/step - loss: 0.0860 - accuracy: 0.9981 - val_loss: 1.2576e-38 - val_accuracy: 1.0000\n",
            "Epoch 13/20\n",
            "500/500 [==============================] - 18s 36ms/step - loss: 0.0543 - accuracy: 0.9985 - val_loss: 1.3904e-10 - val_accuracy: 1.0000\n",
            "Epoch 14/20\n",
            "500/500 [==============================] - 17s 33ms/step - loss: 0.1024 - accuracy: 0.9973 - val_loss: 0.1795 - val_accuracy: 0.9975\n",
            "Epoch 15/20\n",
            "500/500 [==============================] - 18s 36ms/step - loss: 0.0015 - accuracy: 0.9999 - val_loss: 0.0000e+00 - val_accuracy: 1.0000\n",
            "Epoch 16/20\n",
            "500/500 [==============================] - 17s 33ms/step - loss: 0.2753 - accuracy: 0.9949 - val_loss: 5.1010 - val_accuracy: 0.9350\n",
            "Epoch 17/20\n",
            "500/500 [==============================] - 17s 33ms/step - loss: 0.0828 - accuracy: 0.9984 - val_loss: 5.6867 - val_accuracy: 0.8955\n",
            "Epoch 18/20\n",
            "500/500 [==============================] - 19s 38ms/step - loss: 0.0040 - accuracy: 0.9998 - val_loss: 1.9299e-18 - val_accuracy: 1.0000\n",
            "Epoch 19/20\n",
            "500/500 [==============================] - 17s 33ms/step - loss: 0.2391 - accuracy: 0.9966 - val_loss: 0.7858 - val_accuracy: 0.9835\n",
            "Epoch 20/20\n",
            "500/500 [==============================] - 17s 33ms/step - loss: 0.0853 - accuracy: 0.9986 - val_loss: 0.0000e+00 - val_accuracy: 1.0000\n"
          ]
        }
      ]
    },
    {
      "cell_type": "code",
      "source": [
        "acc = history.history['accuracy']\n",
        "val_acc = history.history['val_accuracy']\n",
        "\n",
        "loss = history.history['loss']\n",
        "val_loss = history.history['val_loss']\n",
        "\n",
        "epochs_range = range(epochs)\n",
        "\n",
        "plt.figure(figsize=(8, 8))\n",
        "plt.subplot(1, 2, 1)\n",
        "plt.plot(epochs_range, acc, label='Training Accuracy')\n",
        "plt.plot(epochs_range, val_acc, label='Validation Accuracy')\n",
        "plt.legend(loc='lower right')\n",
        "plt.title('Training and Validation Accuracy')\n",
        "\n",
        "plt.subplot(1, 2, 2)\n",
        "plt.plot(epochs_range, loss, label='Training Loss')\n",
        "plt.plot(epochs_range, val_loss, label='Validation Loss')\n",
        "plt.legend(loc='upper right')\n",
        "plt.title('Training and Validation Loss')\n",
        "plt.show()"
      ],
      "metadata": {
        "execution": {
          "iopub.status.busy": "2023-10-12T04:26:41.221869Z",
          "iopub.execute_input": "2023-10-12T04:26:41.222213Z",
          "iopub.status.idle": "2023-10-12T04:26:41.673965Z",
          "shell.execute_reply.started": "2023-10-12T04:26:41.222187Z",
          "shell.execute_reply": "2023-10-12T04:26:41.672871Z"
        },
        "trusted": true,
        "colab": {
          "base_uri": "https://localhost:8080/",
          "height": 699
        },
        "id": "ekHJ1E7v7VbR",
        "outputId": "3367358c-b0de-4ee4-b5ce-1c0c5f5690d8"
      },
      "execution_count": 60,
      "outputs": [
        {
          "output_type": "display_data",
          "data": {
            "text/plain": [
              "<Figure size 800x800 with 2 Axes>"
            ],
            "image/png": "[encoded data removed]"
          },
          "metadata": {}
        }
      ]
    },
    {
      "cell_type": "code",
      "source": [
        "(eval_loss, eval_accuracy) = model.evaluate(test_ds, batch_size=batch_size, verbose=1)"
      ],
      "metadata": {
        "execution": {
          "iopub.status.busy": "2023-10-12T04:26:46.981556Z",
          "iopub.execute_input": "2023-10-12T04:26:46.982533Z",
          "iopub.status.idle": "2023-10-12T04:26:47.625944Z",
          "shell.execute_reply.started": "2023-10-12T04:26:46.982492Z",
          "shell.execute_reply": "2023-10-12T04:26:47.625030Z"
        },
        "trusted": true,
        "colab": {
          "base_uri": "https://localhost:8080/"
        },
        "id": "DA8xnl6a7VbS",
        "outputId": "2d29d84c-e5e5-4466-c2c4-229ce1ee1c89"
      },
      "execution_count": 61,
      "outputs": [
        {
          "output_type": "stream",
          "name": "stdout",
          "text": [
            "12/12 [==============================] - 0s 11ms/step - loss: 33.9434 - accuracy: 0.8525\n"
          ]
        }
      ]
    },
    {
      "cell_type": "code",
      "source": [
        "model.save(\"Binary Cancer 85%acc.h5\")"
      ],
      "metadata": {
        "execution": {
          "iopub.status.busy": "2023-10-12T04:26:59.327311Z",
          "iopub.execute_input": "2023-10-12T04:26:59.327735Z",
          "iopub.status.idle": "2023-10-12T04:26:59.682967Z",
          "shell.execute_reply.started": "2023-10-12T04:26:59.327703Z",
          "shell.execute_reply": "2023-10-12T04:26:59.681933Z"
        },
        "trusted": true,
        "id": "dJ7REDwS7VbS"
      },
      "execution_count": 72,
      "outputs": []
    },
    {
      "cell_type": "code",
      "source": [
        "true_categories = np.array(tf.concat([y for x, y in test_ds], axis=0))"
      ],
      "metadata": {
        "id": "NEzWSj96E7ue"
      },
      "execution_count": 62,
      "outputs": []
    },
    {
      "cell_type": "code",
      "source": [
        "predictions = np.array(model.predict(test_ds))\n",
        "pred_categories = []\n",
        "for pred in predictions:\n",
        "  if(pred[0] >= 0.5):\n",
        "    pred_categories.append(1)\n",
        "  else:\n",
        "    pred_categories.append(0)\n",
        "pred_categories = np.array(pred_categories)"
      ],
      "metadata": {
        "colab": {
          "base_uri": "https://localhost:8080/"
        },
        "id": "hW36X9TpHu29",
        "outputId": "855bbcfb-9ae0-432c-aaa5-6abc04cb6ae4"
      },
      "execution_count": 63,
      "outputs": [
        {
          "output_type": "stream",
          "name": "stdout",
          "text": [
            "12/12 [==============================] - 0s 9ms/step\n"
          ]
        }
      ]
    },
    {
      "cell_type": "code",
      "source": [
        "true_categories"
      ],
      "metadata": {
        "colab": {
          "base_uri": "https://localhost:8080/"
        },
        "id": "CoEGq1f1Ka3e",
        "outputId": "9537af59-a967-4579-ac9d-a03aa782596b"
      },
      "execution_count": 64,
      "outputs": [
        {
          "output_type": "execute_result",
          "data": {
            "text/plain": [
              "array([0, 0, 1, 1, 1, 1, 1, 1, 1, 1, 1, 1, 1, 1, 1, 0, 1, 1, 1, 1, 1, 1,\n",
              "       1, 0, 1, 1, 1, 1, 1, 1, 1, 1, 1, 1, 1, 1, 1, 1, 1, 1, 1, 1, 0, 1,\n",
              "       1, 0, 1, 1, 1, 1, 1, 1, 1, 1, 1, 1, 1, 1, 1, 1, 0, 1, 0, 1, 1, 1,\n",
              "       1, 1, 0, 1, 1, 1, 1, 1, 1, 1, 0, 1, 0, 1, 1, 1, 1, 0, 1, 0, 1, 1,\n",
              "       1, 0, 1, 1, 1, 0, 1, 0, 0, 1, 1, 0, 1, 1, 0, 1, 1, 0, 1, 1, 1, 0,\n",
              "       1, 1, 1, 1, 1, 0, 1, 1, 1, 1, 1, 1, 1, 1, 0, 0, 1, 0, 1, 1, 1, 1,\n",
              "       1, 1, 0, 1, 1, 1, 0, 1, 1, 0, 1, 0, 1, 1, 1, 1, 1, 1, 1, 1, 1, 1,\n",
              "       1, 0, 1, 1, 1, 0, 0, 1, 0, 1, 1, 1, 1, 0, 0, 1, 0, 1, 1, 1, 1, 1,\n",
              "       1, 1, 1, 0, 1, 1, 1], dtype=int32)"
            ]
          },
          "metadata": {},
          "execution_count": 64
        }
      ]
    },
    {
      "cell_type": "code",
      "source": [
        "pred_categories"
      ],
      "metadata": {
        "colab": {
          "base_uri": "https://localhost:8080/"
        },
        "id": "6GpyxI0oLei_",
        "outputId": "53f51828-6abf-4f27-d377-f1664f2f69f5"
      },
      "execution_count": 65,
      "outputs": [
        {
          "output_type": "execute_result",
          "data": {
            "text/plain": [
              "array([0, 1, 1, 1, 0, 1, 1, 1, 0, 1, 1, 0, 1, 1, 1, 1, 1, 0, 1, 1, 0, 0,\n",
              "       1, 1, 0, 1, 1, 1, 1, 1, 1, 1, 1, 1, 1, 1, 1, 1, 1, 1, 1, 1, 1, 1,\n",
              "       1, 1, 1, 0, 0, 1, 1, 1, 1, 1, 1, 1, 1, 1, 0, 1, 0, 1, 0, 0, 1, 1,\n",
              "       1, 1, 0, 1, 1, 1, 1, 1, 1, 1, 1, 1, 0, 1, 1, 0, 1, 1, 1, 1, 0, 1,\n",
              "       1, 1, 1, 1, 1, 1, 1, 1, 1, 0, 1, 1, 1, 1, 0, 1, 0, 1, 1, 1, 1, 1,\n",
              "       1, 0, 0, 0, 1, 0, 1, 1, 1, 1, 1, 0, 1, 1, 1, 1, 1, 0, 1, 1, 0, 1,\n",
              "       0, 1, 0, 0, 1, 1, 0, 1, 1, 1, 1, 1, 1, 0, 1, 1, 1, 0, 1, 1, 1, 1,\n",
              "       1, 1, 1, 1, 1, 1, 0, 1, 1, 1, 1, 1, 1, 1, 1, 1, 0, 0, 1, 1, 1, 0,\n",
              "       1, 1, 1, 1, 1, 1, 1])"
            ]
          },
          "metadata": {},
          "execution_count": 65
        }
      ]
    },
    {
      "cell_type": "code",
      "source": [
        "pd.crosstab(true_categories,pred_categories)"
      ],
      "metadata": {
        "colab": {
          "base_uri": "https://localhost:8080/",
          "height": 143
        },
        "id": "6gIfFWgELfyp",
        "outputId": "37b8bb77-d517-4f4e-84f9-8d6a9c4eaf47"
      },
      "execution_count": 66,
      "outputs": [
        {
          "output_type": "execute_result",
          "data": {
            "text/plain": [
              "col_0   0    1\n",
              "row_0         \n",
              "0      12   25\n",
              "1      26  120"
            ],
            "text/html": [
              "\n",
              "  <div id=\"df-03ceef68-6128-47e8-99b5-08432faa9afb\" class=\"colab-df-container\">\n",
              "    <div>\n",
              "<style scoped>\n",
              "    .dataframe tbody tr th:only-of-type {\n",
              "        vertical-align: middle;\n",
              "    }\n",
              "\n",
              "    .dataframe tbody tr th {\n",
              "        vertical-align: top;\n",
              "    }\n",
              "\n",
              "    .dataframe thead th {\n",
              "        text-align: right;\n",
              "    }\n",
              "</style>\n",
              "<table border=\"1\" class=\"dataframe\">\n",
              "  <thead>\n",
              "    <tr style=\"text-align: right;\">\n",
              "      <th>col_0</th>\n",
              "      <th>0</th>\n",
              "      <th>1</th>\n",
              "    </tr>\n",
              "    <tr>\n",
              "      <th>row_0</th>\n",
              "      <th></th>\n",
              "      <th></th>\n",
              "    </tr>\n",
              "  </thead>\n",
              "  <tbody>\n",
              "    <tr>\n",
              "      <th>0</th>\n",
              "      <td>12</td>\n",
              "      <td>25</td>\n",
              "    </tr>\n",
              "    <tr>\n",
              "      <th>1</th>\n",
              "      <td>26</td>\n",
              "      <td>120</td>\n",
              "    </tr>\n",
              "  </tbody>\n",
              "</table>\n",
              "</div>\n",
              "    <div class=\"colab-df-buttons\">\n",
              "\n",
              "  <div class=\"colab-df-container\">\n",
              "    <button class=\"colab-df-convert\" onclick=\"convertToInteractive('df-03ceef68-6128-47e8-99b5-08432faa9afb')\"\n",
              "            title=\"Convert this dataframe to an interactive table.\"\n",
              "            style=\"display:none;\">\n",
              "\n",
              "  <svg xmlns=\"http://www.w3.org/2000/svg\" height=\"24px\" viewBox=\"0 -960 960 960\">\n",
              "    <path d=\"M120-120v-720h720v720H120Zm60-500h600v-160H180v160Zm220 220h160v-160H400v160Zm0 220h160v-160H400v160ZM180-400h160v-160H180v160Zm440 0h160v-160H620v160ZM180-180h160v-160H180v160Zm440 0h160v-160H620v160Z\"/>\n",
              "  </svg>\n",
              "    </button>\n",
              "\n",
              "  <style>\n",
              "    .colab-df-container {\n",
              "      display:flex;\n",
              "      gap: 12px;\n",
              "    }\n",
              "\n",
              "    .colab-df-convert {\n",
              "      background-color: #E8F0FE;\n",
              "      border: none;\n",
              "      border-radius: 50%;\n",
              "      cursor: pointer;\n",
              "      display: none;\n",
              "      fill: #1967D2;\n",
              "      height: 32px;\n",
              "      padding: 0 0 0 0;\n",
              "      width: 32px;\n",
              "    }\n",
              "\n",
              "    .colab-df-convert:hover {\n",
              "      background-color: #E2EBFA;\n",
              "      box-shadow: 0px 1px 2px rgba(60, 64, 67, 0.3), 0px 1px 3px 1px rgba(60, 64, 67, 0.15);\n",
              "      fill: #174EA6;\n",
              "    }\n",
              "\n",
              "    .colab-df-buttons div {\n",
              "      margin-bottom: 4px;\n",
              "    }\n",
              "\n",
              "    [theme=dark] .colab-df-convert {\n",
              "      background-color: #3B4455;\n",
              "      fill: #D2E3FC;\n",
              "    }\n",
              "\n",
              "    [theme=dark] .colab-df-convert:hover {\n",
              "      background-color: #434B5C;\n",
              "      box-shadow: 0px 1px 3px 1px rgba(0, 0, 0, 0.15);\n",
              "      filter: drop-shadow(0px 1px 2px rgba(0, 0, 0, 0.3));\n",
              "      fill: #FFFFFF;\n",
              "    }\n",
              "  </style>\n",
              "\n",
              "    <script>\n",
              "      const buttonEl =\n",
              "        document.querySelector('#df-03ceef68-6128-47e8-99b5-08432faa9afb button.colab-df-convert');\n",
              "      buttonEl.style.display =\n",
              "        google.colab.kernel.accessAllowed ? 'block' : 'none';\n",
              "\n",
              "      async function convertToInteractive(key) {\n",
              "        const element = document.querySelector('#df-03ceef68-6128-47e8-99b5-08432faa9afb');\n",
              "        const dataTable =\n",
              "          await google.colab.kernel.invokeFunction('convertToInteractive',\n",
              "                                                    [key], {});\n",
              "        if (!dataTable) return;\n",
              "\n",
              "        const docLinkHtml = 'Like what you see? Visit the ' +\n",
              "          '<a target=\"_blank\" href=https://colab.research.google.com/notebooks/data_table.ipynb>data table notebook</a>'\n",
              "          + ' to learn more about interactive tables.';\n",
              "        element.innerHTML = '';\n",
              "        dataTable['output_type'] = 'display_data';\n",
              "        await google.colab.output.renderOutput(dataTable, element);\n",
              "        const docLink = document.createElement('div');\n",
              "        docLink.innerHTML = docLinkHtml;\n",
              "        element.appendChild(docLink);\n",
              "      }\n",
              "    </script>\n",
              "  </div>\n",
              "\n",
              "\n",
              "<div id=\"df-c981c8a9-31b9-4ffb-9ae4-023340adc67c\">\n",
              "  <button class=\"colab-df-quickchart\" onclick=\"quickchart('df-c981c8a9-31b9-4ffb-9ae4-023340adc67c')\"\n",
              "            title=\"Suggest charts.\"\n",
              "            style=\"display:none;\">\n",
              "\n",
              "<svg xmlns=\"http://www.w3.org/2000/svg\" height=\"24px\"viewBox=\"0 0 24 24\"\n",
              "     width=\"24px\">\n",
              "    <g>\n",
              "        <path d=\"M19 3H5c-1.1 0-2 .9-2 2v14c0 1.1.9 2 2 2h14c1.1 0 2-.9 2-2V5c0-1.1-.9-2-2-2zM9 17H7v-7h2v7zm4 0h-2V7h2v10zm4 0h-2v-4h2v4z\"/>\n",
              "    </g>\n",
              "</svg>\n",
              "  </button>\n",
              "\n",
              "<style>\n",
              "  .colab-df-quickchart {\n",
              "      --bg-color: #E8F0FE;\n",
              "      --fill-color: #1967D2;\n",
              "      --hover-bg-color: #E2EBFA;\n",
              "      --hover-fill-color: #174EA6;\n",
              "      --disabled-fill-color: #AAA;\n",
              "      --disabled-bg-color: #DDD;\n",
              "  }\n",
              "\n",
              "  [theme=dark] .colab-df-quickchart {\n",
              "      --bg-color: #3B4455;\n",
              "      --fill-color: #D2E3FC;\n",
              "      --hover-bg-color: #434B5C;\n",
              "      --hover-fill-color: #FFFFFF;\n",
              "      --disabled-bg-color: #3B4455;\n",
              "      --disabled-fill-color: #666;\n",
              "  }\n",
              "\n",
              "  .colab-df-quickchart {\n",
              "    background-color: var(--bg-color);\n",
              "    border: none;\n",
              "    border-radius: 50%;\n",
              "    cursor: pointer;\n",
              "    display: none;\n",
              "    fill: var(--fill-color);\n",
              "    height: 32px;\n",
              "    padding: 0;\n",
              "    width: 32px;\n",
              "  }\n",
              "\n",
              "  .colab-df-quickchart:hover {\n",
              "    background-color: var(--hover-bg-color);\n",
              "    box-shadow: 0 1px 2px rgba(60, 64, 67, 0.3), 0 1px 3px 1px rgba(60, 64, 67, 0.15);\n",
              "    fill: var(--button-hover-fill-color);\n",
              "  }\n",
              "\n",
              "  .colab-df-quickchart-complete:disabled,\n",
              "  .colab-df-quickchart-complete:disabled:hover {\n",
              "    background-color: var(--disabled-bg-color);\n",
              "    fill: var(--disabled-fill-color);\n",
              "    box-shadow: none;\n",
              "  }\n",
              "\n",
              "  .colab-df-spinner {\n",
              "    border: 2px solid var(--fill-color);\n",
              "    border-color: transparent;\n",
              "    border-bottom-color: var(--fill-color);\n",
              "    animation:\n",
              "      spin 1s steps(1) infinite;\n",
              "  }\n",
              "\n",
              "  @keyframes spin {\n",
              "    0% {\n",
              "      border-color: transparent;\n",
              "      border-bottom-color: var(--fill-color);\n",
              "      border-left-color: var(--fill-color);\n",
              "    }\n",
              "    20% {\n",
              "      border-color: transparent;\n",
              "      border-left-color: var(--fill-color);\n",
              "      border-top-color: var(--fill-color);\n",
              "    }\n",
              "    30% {\n",
              "      border-color: transparent;\n",
              "      border-left-color: var(--fill-color);\n",
              "      border-top-color: var(--fill-color);\n",
              "      border-right-color: var(--fill-color);\n",
              "    }\n",
              "    40% {\n",
              "      border-color: transparent;\n",
              "      border-right-color: var(--fill-color);\n",
              "      border-top-color: var(--fill-color);\n",
              "    }\n",
              "    60% {\n",
              "      border-color: transparent;\n",
              "      border-right-color: var(--fill-color);\n",
              "    }\n",
              "    80% {\n",
              "      border-color: transparent;\n",
              "      border-right-color: var(--fill-color);\n",
              "      border-bottom-color: var(--fill-color);\n",
              "    }\n",
              "    90% {\n",
              "      border-color: transparent;\n",
              "      border-bottom-color: var(--fill-color);\n",
              "    }\n",
              "  }\n",
              "</style>\n",
              "\n",
              "  <script>\n",
              "    async function quickchart(key) {\n",
              "      const quickchartButtonEl =\n",
              "        document.querySelector('#' + key + ' button');\n",
              "      quickchartButtonEl.disabled = true;  // To prevent multiple clicks.\n",
              "      quickchartButtonEl.classList.add('colab-df-spinner');\n",
              "      try {\n",
              "        const charts = await google.colab.kernel.invokeFunction(\n",
              "            'suggestCharts', [key], {});\n",
              "      } catch (error) {\n",
              "        console.error('Error during call to suggestCharts:', error);\n",
              "      }\n",
              "      quickchartButtonEl.classList.remove('colab-df-spinner');\n",
              "      quickchartButtonEl.classList.add('colab-df-quickchart-complete');\n",
              "    }\n",
              "    (() => {\n",
              "      let quickchartButtonEl =\n",
              "        document.querySelector('#df-c981c8a9-31b9-4ffb-9ae4-023340adc67c button');\n",
              "      quickchartButtonEl.style.display =\n",
              "        google.colab.kernel.accessAllowed ? 'block' : 'none';\n",
              "    })();\n",
              "  </script>\n",
              "</div>\n",
              "    </div>\n",
              "  </div>\n"
            ]
          },
          "metadata": {},
          "execution_count": 66
        }
      ]
    },
    {
      "cell_type": "code",
      "source": [
        "from sklearn.metrics import classification_report, accuracy_score\n",
        "print(classification_report(true_categories,pred_categories))"
      ],
      "metadata": {
        "colab": {
          "base_uri": "https://localhost:8080/"
        },
        "id": "F6CTKSo0LrNy",
        "outputId": "d13f03be-5728-4410-e06f-40782ba69267"
      },
      "execution_count": 67,
      "outputs": [
        {
          "output_type": "stream",
          "name": "stdout",
          "text": [
            "              precision    recall  f1-score   support\n",
            "\n",
            "           0       0.32      0.32      0.32        37\n",
            "           1       0.83      0.82      0.82       146\n",
            "\n",
            "    accuracy                           0.72       183\n",
            "   macro avg       0.57      0.57      0.57       183\n",
            "weighted avg       0.72      0.72      0.72       183\n",
            "\n"
          ]
        }
      ]
    },
    {
      "cell_type": "code",
      "source": [
        "accuracy_score(true_categories,pred_categories)"
      ],
      "metadata": {
        "colab": {
          "base_uri": "https://localhost:8080/"
        },
        "id": "wqMWu-RJXMBD",
        "outputId": "564f37ff-7952-4c78-e9cf-7b4dd70a22b1"
      },
      "execution_count": 68,
      "outputs": [
        {
          "output_type": "execute_result",
          "data": {
            "text/plain": [
              "0.7213114754098361"
            ]
          },
          "metadata": {},
          "execution_count": 68
        }
      ]
    },
    {
      "cell_type": "code",
      "source": [
        "from tensorflow.keras.preprocessing import image"
      ],
      "metadata": {
        "execution": {
          "iopub.status.busy": "2023-10-12T04:27:11.272996Z",
          "iopub.execute_input": "2023-10-12T04:27:11.273332Z",
          "iopub.status.idle": "2023-10-12T04:27:11.278612Z",
          "shell.execute_reply.started": "2023-10-12T04:27:11.273306Z",
          "shell.execute_reply": "2023-10-12T04:27:11.277547Z"
        },
        "trusted": true,
        "id": "Nt8H5IB_7VbS"
      },
      "execution_count": 69,
      "outputs": []
    },
    {
      "cell_type": "code",
      "source": [
        "img = image.load_img('/content/sample_data/Test/test/Cancer/1992.JPG',target_size =(180,180))"
      ],
      "metadata": {
        "execution": {
          "iopub.status.busy": "2023-10-12T04:27:13.723279Z",
          "iopub.execute_input": "2023-10-12T04:27:13.723671Z",
          "iopub.status.idle": "2023-10-12T04:27:13.738513Z",
          "shell.execute_reply.started": "2023-10-12T04:27:13.723638Z",
          "shell.execute_reply": "2023-10-12T04:27:13.737338Z"
        },
        "trusted": true,
        "id": "ZQQUdFv87VbS"
      },
      "execution_count": 70,
      "outputs": []
    },
    {
      "cell_type": "code",
      "source": [
        "x = image.img_to_array(img)\n",
        "x = np.expand_dims(x,axis = 0)\n",
        "pred =model.predict(x)\n",
        "if(float(pred[0]) >= 0.5):\n",
        "    print(\"Non Cancer\")\n",
        "else:\n",
        "    print(\"Cancer\")\n",
        "score = float(pred[0])\n",
        "print(f\"This image is {100 * (1 - score):.2f}% Cancer and {100 * score:.2f}% Non Cancer.\")"
      ],
      "metadata": {
        "execution": {
          "iopub.status.busy": "2023-10-12T04:27:16.338317Z",
          "iopub.execute_input": "2023-10-12T04:27:16.338720Z",
          "iopub.status.idle": "2023-10-12T04:27:16.685116Z",
          "shell.execute_reply.started": "2023-10-12T04:27:16.338680Z",
          "shell.execute_reply": "2023-10-12T04:27:16.684093Z"
        },
        "trusted": true,
        "colab": {
          "base_uri": "https://localhost:8080/"
        },
        "id": "NNn2xIwU7VbS",
        "outputId": "aa3f48d9-560d-4925-b35f-71a07c811797"
      },
      "execution_count": 71,
      "outputs": [
        {
          "output_type": "stream",
          "name": "stdout",
          "text": [
            "1/1 [==============================] - 0s 263ms/step\n",
            "Cancer\n",
            "This image is 100.00% Cancer and 0.00% Non Cancer.\n"
          ]
        }
      ]
    }
  ]
}